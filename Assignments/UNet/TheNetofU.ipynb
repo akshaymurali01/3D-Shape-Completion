{
 "cells": [
  {
   "cell_type": "markdown",
   "metadata": {
    "id": "CeZjj53JLdAY"
   },
   "source": [
    "## Importing Stuff\n",
    "\n",
    "\n"
   ]
  },
  {
   "cell_type": "code",
   "execution_count": 39,
   "metadata": {
    "colab": {
     "base_uri": "https://localhost:8080/"
    },
    "id": "ZXZLgk2M10GO",
    "outputId": "8bde77c0-f590-43dc-855f-39d95a66c497"
   },
   "outputs": [],
   "source": [
    "!wget https://s3.eu-central-1.amazonaws.com/avg-kitti/data_semantics.zip"
   ]
  },
  {
   "cell_type": "code",
   "execution_count": 38,
   "metadata": {
    "colab": {
     "base_uri": "https://localhost:8080/"
    },
    "id": "D6iZsK4a5fqL",
    "outputId": "afa7427d-bad9-49da-d52e-65f8fc72cd5b"
   },
   "outputs": [],
   "source": [
    "!unzip data_semantics.zip -d data_semantics "
   ]
  },
  {
   "cell_type": "code",
   "execution_count": 2,
   "metadata": {
    "id": "bJzgiFmALi8M"
   },
   "outputs": [
    {
     "name": "stdout",
     "output_type": "stream",
     "text": [
      "done\n"
     ]
    }
   ],
   "source": [
    "#i am about to begin. rip to the little sanity i had\n",
    "\n",
    "#importing time\n",
    "\n",
    "import os\n",
    "import numpy as np\n",
    "import tensorflow as tf\n",
    "from tensorflow import keras\n",
    "import matplotlib.pyplot as pyplt\n",
    "import matplotlib.image as mpimg\n",
    "import cv2\n",
    "#ill add other libraries later\n",
    "\n",
    "print(\"done\")"
   ]
  },
  {
   "cell_type": "markdown",
   "metadata": {
    "id": "oSjz9eFnMbPc"
   },
   "source": [
    "## Preparing Data"
   ]
  },
  {
   "cell_type": "code",
   "execution_count": 3,
   "metadata": {
    "colab": {
     "base_uri": "https://localhost:8080/",
     "height": 286
    },
    "id": "b0Y6almiMerx",
    "outputId": "e7deb27f-be8f-47f5-ef7a-0c9a5a1950c0"
   },
   "outputs": [
    {
     "name": "stdout",
     "output_type": "stream",
     "text": [
      "(375, 1242, 3)\n",
      "(128, 128, 3)\n",
      "(128, 128)\n"
     ]
    },
    {
     "data": {
      "text/plain": [
       "<matplotlib.image.AxesImage at 0x7fe0407bfd30>"
      ]
     },
     "execution_count": 3,
     "metadata": {},
     "output_type": "execute_result"
    },
    {
<<<<<<< HEAD
     "data": {
      "image/png": "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\n",
      "text/plain": [
       "<Figure size 432x288 with 1 Axes>"
=======
      "cell_type": "code",
      "metadata": {
        "colab": {
          "base_uri": "https://localhost:8080/",
          "height": 1000
        },
        "id": "nduySIT9nO8s",
        "outputId": "67b38a1d-e239-4ee4-80a5-85a46046ae60"
      },
      "source": [
        "# start with a 128x128, then halve till you get an 8x8, then go back up again\n",
        "# I made the architecture, but without the data its not gonna go anywhere :(\n",
        "\n",
        "\n",
        "def down_block(x,filters,filter_size = (3,3),stride = 1,padding = 'same'):\n",
        "\n",
        "  c = keras.layers.Conv2D(filters,filter_size,strides=stride,padding=padding,activation='relu')(x)\n",
        "  c = keras.layers.Conv2D(filters,filter_size,strides=stride,padding=padding,activation='relu')(c)\n",
        "  p = keras.layers.MaxPool2D((2,2),(2,2))(c)\n",
        "  return c,p\n",
        "\n",
        "def up_block(x,filters,skip_layer,filter_size = (3,3),stride = 1,padding = 'same'):\n",
        "\n",
        "  up_sample = keras.layers.UpSampling2D((2,2))(x)\n",
        "  concatnt = keras.layers.Concatenate()([up_sample,skip_layer])\n",
        "  c = keras.layers.Conv2D(filters,filter_size,strides=stride,padding=padding,activation='relu')(concatnt)\n",
        "  c = keras.layers.Conv2D(filters,filter_size,strides=stride,padding=padding,activation='relu')(c)\n",
        "  return c\n",
        "\n",
        "def bottleneck(x,filters,filter_size = (3,3),stride = 1,padding = 'same'):\n",
        "  c = keras.layers.Conv2D(filters,filter_size,strides=stride,padding=padding,activation='relu')(x)\n",
        "  c = keras.layers.Conv2D(filters,filter_size,strides=stride,padding=padding,activation='relu')(c)\n",
        "  return c\n",
        "\n",
        "def UNet():\n",
        "  inputs = keras.layers.Input((128,128,3))\n",
        "\n",
        "  p0 = inputs\n",
        "  c1,p1 = down_block(p0,16)\n",
        "  c2,p2 = down_block(p1,32)\n",
        "  c3,p3 = down_block(p2,64)#16\n",
        "  c4,p4 = down_block(p3,128)#8\n",
        "\n",
        "  c6 = bottleneck(p4,256)\n",
        "\n",
        "  c7 = up_block(c6,c4,128)\n",
        "  c8 = up_block(c7,c3,64)\n",
        "  c9 = up_block(c8,c2,32)\n",
        "  c10 = up_block(c9,c1,16)\n",
        "\n",
        "  output = keras.layers.Conv2D(1,(1,1),(1,1),'same',activation = 'sigmoid')(c10)\n",
        "\n",
        "  model = keras.models.Model(inputs,output)\n",
        "  return model\n",
        "\n",
        "\n",
        "model = UNet()\n",
        "model.compile(optimizer = 'adam',loss = 'rmsprop',metrics = ['accuracy'])\n",
        "model.fit(image,image_mask,epochs = 10)\n",
        "\n",
        "\n",
        "\n",
        "\n",
        "\n",
        "\n"
      ],
      "execution_count": 7,
      "outputs": [
        {
          "output_type": "error",
          "ename": "IndexError",
          "evalue": "ignored",
          "traceback": [
            "\u001b[0;31m---------------------------------------------------------------------------\u001b[0m",
            "\u001b[0;31mIndexError\u001b[0m                                Traceback (most recent call last)",
            "\u001b[0;32m<ipython-input-7-5c61916a2ddc>\u001b[0m in \u001b[0;36m<module>\u001b[0;34m()\u001b[0m\n\u001b[1;32m     44\u001b[0m \u001b[0;34m\u001b[0m\u001b[0m\n\u001b[1;32m     45\u001b[0m \u001b[0;34m\u001b[0m\u001b[0m\n\u001b[0;32m---> 46\u001b[0;31m \u001b[0mmodel\u001b[0m \u001b[0;34m=\u001b[0m \u001b[0mUNet\u001b[0m\u001b[0;34m(\u001b[0m\u001b[0;34m)\u001b[0m\u001b[0;34m\u001b[0m\u001b[0;34m\u001b[0m\u001b[0m\n\u001b[0m\u001b[1;32m     47\u001b[0m \u001b[0mmodel\u001b[0m\u001b[0;34m.\u001b[0m\u001b[0mcompile\u001b[0m\u001b[0;34m(\u001b[0m\u001b[0moptimizer\u001b[0m \u001b[0;34m=\u001b[0m \u001b[0;34m'adam'\u001b[0m\u001b[0;34m,\u001b[0m\u001b[0mloss\u001b[0m \u001b[0;34m=\u001b[0m \u001b[0;34m'rmsprop'\u001b[0m\u001b[0;34m,\u001b[0m\u001b[0mmetrics\u001b[0m \u001b[0;34m=\u001b[0m \u001b[0;34m[\u001b[0m\u001b[0;34m'accuracy'\u001b[0m\u001b[0;34m]\u001b[0m\u001b[0;34m)\u001b[0m\u001b[0;34m\u001b[0m\u001b[0;34m\u001b[0m\u001b[0m\n\u001b[1;32m     48\u001b[0m \u001b[0mmodel\u001b[0m\u001b[0;34m.\u001b[0m\u001b[0mfit\u001b[0m\u001b[0;34m(\u001b[0m\u001b[0mimage\u001b[0m\u001b[0;34m,\u001b[0m\u001b[0mimage_mask\u001b[0m\u001b[0;34m,\u001b[0m\u001b[0mepochs\u001b[0m \u001b[0;34m=\u001b[0m \u001b[0;36m10\u001b[0m\u001b[0;34m)\u001b[0m\u001b[0;34m\u001b[0m\u001b[0;34m\u001b[0m\u001b[0m\n",
            "\u001b[0;32m<ipython-input-7-5c61916a2ddc>\u001b[0m in \u001b[0;36mUNet\u001b[0;34m()\u001b[0m\n\u001b[1;32m     33\u001b[0m   \u001b[0mc6\u001b[0m \u001b[0;34m=\u001b[0m \u001b[0mbottleneck\u001b[0m\u001b[0;34m(\u001b[0m\u001b[0mp4\u001b[0m\u001b[0;34m,\u001b[0m\u001b[0;36m256\u001b[0m\u001b[0;34m)\u001b[0m\u001b[0;34m\u001b[0m\u001b[0;34m\u001b[0m\u001b[0m\n\u001b[1;32m     34\u001b[0m \u001b[0;34m\u001b[0m\u001b[0m\n\u001b[0;32m---> 35\u001b[0;31m   \u001b[0mc7\u001b[0m \u001b[0;34m=\u001b[0m \u001b[0mup_block\u001b[0m\u001b[0;34m(\u001b[0m\u001b[0mc6\u001b[0m\u001b[0;34m,\u001b[0m\u001b[0mc4\u001b[0m\u001b[0;34m,\u001b[0m\u001b[0;36m128\u001b[0m\u001b[0;34m)\u001b[0m\u001b[0;34m\u001b[0m\u001b[0;34m\u001b[0m\u001b[0m\n\u001b[0m\u001b[1;32m     36\u001b[0m   \u001b[0mc8\u001b[0m \u001b[0;34m=\u001b[0m \u001b[0mup_block\u001b[0m\u001b[0;34m(\u001b[0m\u001b[0mc7\u001b[0m\u001b[0;34m,\u001b[0m\u001b[0mc3\u001b[0m\u001b[0;34m,\u001b[0m\u001b[0;36m64\u001b[0m\u001b[0;34m)\u001b[0m\u001b[0;34m\u001b[0m\u001b[0;34m\u001b[0m\u001b[0m\n\u001b[1;32m     37\u001b[0m   \u001b[0mc9\u001b[0m \u001b[0;34m=\u001b[0m \u001b[0mup_block\u001b[0m\u001b[0;34m(\u001b[0m\u001b[0mc8\u001b[0m\u001b[0;34m,\u001b[0m\u001b[0mc2\u001b[0m\u001b[0;34m,\u001b[0m\u001b[0;36m32\u001b[0m\u001b[0;34m)\u001b[0m\u001b[0;34m\u001b[0m\u001b[0;34m\u001b[0m\u001b[0m\n",
            "\u001b[0;32m<ipython-input-7-5c61916a2ddc>\u001b[0m in \u001b[0;36mup_block\u001b[0;34m(x, filters, skip_layer, filter_size, stride, padding)\u001b[0m\n\u001b[1;32m     12\u001b[0m \u001b[0;34m\u001b[0m\u001b[0m\n\u001b[1;32m     13\u001b[0m   \u001b[0mup_sample\u001b[0m \u001b[0;34m=\u001b[0m \u001b[0mkeras\u001b[0m\u001b[0;34m.\u001b[0m\u001b[0mlayers\u001b[0m\u001b[0;34m.\u001b[0m\u001b[0mUpSampling2D\u001b[0m\u001b[0;34m(\u001b[0m\u001b[0;34m(\u001b[0m\u001b[0;36m2\u001b[0m\u001b[0;34m,\u001b[0m\u001b[0;36m2\u001b[0m\u001b[0;34m)\u001b[0m\u001b[0;34m)\u001b[0m\u001b[0;34m(\u001b[0m\u001b[0mx\u001b[0m\u001b[0;34m)\u001b[0m\u001b[0;34m\u001b[0m\u001b[0;34m\u001b[0m\u001b[0m\n\u001b[0;32m---> 14\u001b[0;31m   \u001b[0mconcatnt\u001b[0m \u001b[0;34m=\u001b[0m \u001b[0mkeras\u001b[0m\u001b[0;34m.\u001b[0m\u001b[0mlayers\u001b[0m\u001b[0;34m.\u001b[0m\u001b[0mConcatenate\u001b[0m\u001b[0;34m(\u001b[0m\u001b[0maxis\u001b[0m\u001b[0;34m=\u001b[0m\u001b[0;34m-\u001b[0m\u001b[0;36m1\u001b[0m\u001b[0;34m)\u001b[0m\u001b[0;34m(\u001b[0m\u001b[0;34m[\u001b[0m\u001b[0mup_sample\u001b[0m\u001b[0;34m,\u001b[0m\u001b[0mskip_layer\u001b[0m\u001b[0;34m]\u001b[0m\u001b[0;34m)\u001b[0m\u001b[0;34m\u001b[0m\u001b[0;34m\u001b[0m\u001b[0m\n\u001b[0m\u001b[1;32m     15\u001b[0m   \u001b[0mc\u001b[0m \u001b[0;34m=\u001b[0m \u001b[0mkeras\u001b[0m\u001b[0;34m.\u001b[0m\u001b[0mlayers\u001b[0m\u001b[0;34m.\u001b[0m\u001b[0mConv2D\u001b[0m\u001b[0;34m(\u001b[0m\u001b[0mfilters\u001b[0m\u001b[0;34m,\u001b[0m\u001b[0mfilter_size\u001b[0m\u001b[0;34m,\u001b[0m\u001b[0mstrides\u001b[0m\u001b[0;34m=\u001b[0m\u001b[0mstride\u001b[0m\u001b[0;34m,\u001b[0m\u001b[0mpadding\u001b[0m\u001b[0;34m=\u001b[0m\u001b[0mpadding\u001b[0m\u001b[0;34m,\u001b[0m\u001b[0mactivation\u001b[0m\u001b[0;34m=\u001b[0m\u001b[0;34m'relu'\u001b[0m\u001b[0;34m)\u001b[0m\u001b[0;34m(\u001b[0m\u001b[0mconcatnt\u001b[0m\u001b[0;34m)\u001b[0m\u001b[0;34m\u001b[0m\u001b[0;34m\u001b[0m\u001b[0m\n\u001b[1;32m     16\u001b[0m   \u001b[0mc\u001b[0m \u001b[0;34m=\u001b[0m \u001b[0mkeras\u001b[0m\u001b[0;34m.\u001b[0m\u001b[0mlayers\u001b[0m\u001b[0;34m.\u001b[0m\u001b[0mConv2D\u001b[0m\u001b[0;34m(\u001b[0m\u001b[0mfilters\u001b[0m\u001b[0;34m,\u001b[0m\u001b[0mfilter_size\u001b[0m\u001b[0;34m,\u001b[0m\u001b[0mstrides\u001b[0m\u001b[0;34m=\u001b[0m\u001b[0mstride\u001b[0m\u001b[0;34m,\u001b[0m\u001b[0mpadding\u001b[0m\u001b[0;34m=\u001b[0m\u001b[0mpadding\u001b[0m\u001b[0;34m,\u001b[0m\u001b[0mactivation\u001b[0m\u001b[0;34m=\u001b[0m\u001b[0;34m'relu'\u001b[0m\u001b[0;34m)\u001b[0m\u001b[0;34m(\u001b[0m\u001b[0mc\u001b[0m\u001b[0;34m)\u001b[0m\u001b[0;34m\u001b[0m\u001b[0;34m\u001b[0m\u001b[0m\n",
            "\u001b[0;32m/usr/local/lib/python3.7/dist-packages/tensorflow/python/keras/engine/base_layer.py\u001b[0m in \u001b[0;36m__call__\u001b[0;34m(self, *args, **kwargs)\u001b[0m\n\u001b[1;32m    968\u001b[0m     \u001b[0;32mif\u001b[0m \u001b[0m_in_functional_construction_mode\u001b[0m\u001b[0;34m(\u001b[0m\u001b[0mself\u001b[0m\u001b[0;34m,\u001b[0m \u001b[0minputs\u001b[0m\u001b[0;34m,\u001b[0m \u001b[0margs\u001b[0m\u001b[0;34m,\u001b[0m \u001b[0mkwargs\u001b[0m\u001b[0;34m,\u001b[0m \u001b[0minput_list\u001b[0m\u001b[0;34m)\u001b[0m\u001b[0;34m:\u001b[0m\u001b[0;34m\u001b[0m\u001b[0;34m\u001b[0m\u001b[0m\n\u001b[1;32m    969\u001b[0m       return self._functional_construction_call(inputs, args, kwargs,\n\u001b[0;32m--> 970\u001b[0;31m                                                 input_list)\n\u001b[0m\u001b[1;32m    971\u001b[0m \u001b[0;34m\u001b[0m\u001b[0m\n\u001b[1;32m    972\u001b[0m     \u001b[0;31m# Maintains info about the `Layer.call` stack.\u001b[0m\u001b[0;34m\u001b[0m\u001b[0;34m\u001b[0m\u001b[0;34m\u001b[0m\u001b[0m\n",
            "\u001b[0;32m/usr/local/lib/python3.7/dist-packages/tensorflow/python/keras/engine/base_layer.py\u001b[0m in \u001b[0;36m_functional_construction_call\u001b[0;34m(self, inputs, args, kwargs, input_list)\u001b[0m\n\u001b[1;32m   1106\u001b[0m       \u001b[0;31m# Check input assumptions set after layer building, e.g. input shape.\u001b[0m\u001b[0;34m\u001b[0m\u001b[0;34m\u001b[0m\u001b[0;34m\u001b[0m\u001b[0m\n\u001b[1;32m   1107\u001b[0m       outputs = self._keras_tensor_symbolic_call(\n\u001b[0;32m-> 1108\u001b[0;31m           inputs, input_masks, args, kwargs)\n\u001b[0m\u001b[1;32m   1109\u001b[0m \u001b[0;34m\u001b[0m\u001b[0m\n\u001b[1;32m   1110\u001b[0m       \u001b[0;32mif\u001b[0m \u001b[0moutputs\u001b[0m \u001b[0;32mis\u001b[0m \u001b[0;32mNone\u001b[0m\u001b[0;34m:\u001b[0m\u001b[0;34m\u001b[0m\u001b[0;34m\u001b[0m\u001b[0m\n",
            "\u001b[0;32m/usr/local/lib/python3.7/dist-packages/tensorflow/python/keras/engine/base_layer.py\u001b[0m in \u001b[0;36m_keras_tensor_symbolic_call\u001b[0;34m(self, inputs, input_masks, args, kwargs)\u001b[0m\n\u001b[1;32m    838\u001b[0m       \u001b[0;32mreturn\u001b[0m \u001b[0mnest\u001b[0m\u001b[0;34m.\u001b[0m\u001b[0mmap_structure\u001b[0m\u001b[0;34m(\u001b[0m\u001b[0mkeras_tensor\u001b[0m\u001b[0;34m.\u001b[0m\u001b[0mKerasTensor\u001b[0m\u001b[0;34m,\u001b[0m \u001b[0moutput_signature\u001b[0m\u001b[0;34m)\u001b[0m\u001b[0;34m\u001b[0m\u001b[0;34m\u001b[0m\u001b[0m\n\u001b[1;32m    839\u001b[0m     \u001b[0;32melse\u001b[0m\u001b[0;34m:\u001b[0m\u001b[0;34m\u001b[0m\u001b[0;34m\u001b[0m\u001b[0m\n\u001b[0;32m--> 840\u001b[0;31m       \u001b[0;32mreturn\u001b[0m \u001b[0mself\u001b[0m\u001b[0;34m.\u001b[0m\u001b[0m_infer_output_signature\u001b[0m\u001b[0;34m(\u001b[0m\u001b[0minputs\u001b[0m\u001b[0;34m,\u001b[0m \u001b[0margs\u001b[0m\u001b[0;34m,\u001b[0m \u001b[0mkwargs\u001b[0m\u001b[0;34m,\u001b[0m \u001b[0minput_masks\u001b[0m\u001b[0;34m)\u001b[0m\u001b[0;34m\u001b[0m\u001b[0;34m\u001b[0m\u001b[0m\n\u001b[0m\u001b[1;32m    841\u001b[0m \u001b[0;34m\u001b[0m\u001b[0m\n\u001b[1;32m    842\u001b[0m   \u001b[0;32mdef\u001b[0m \u001b[0m_infer_output_signature\u001b[0m\u001b[0;34m(\u001b[0m\u001b[0mself\u001b[0m\u001b[0;34m,\u001b[0m \u001b[0minputs\u001b[0m\u001b[0;34m,\u001b[0m \u001b[0margs\u001b[0m\u001b[0;34m,\u001b[0m \u001b[0mkwargs\u001b[0m\u001b[0;34m,\u001b[0m \u001b[0minput_masks\u001b[0m\u001b[0;34m)\u001b[0m\u001b[0;34m:\u001b[0m\u001b[0;34m\u001b[0m\u001b[0;34m\u001b[0m\u001b[0m\n",
            "\u001b[0;32m/usr/local/lib/python3.7/dist-packages/tensorflow/python/keras/engine/base_layer.py\u001b[0m in \u001b[0;36m_infer_output_signature\u001b[0;34m(self, inputs, args, kwargs, input_masks)\u001b[0m\n\u001b[1;32m    876\u001b[0m           \u001b[0;31m# overridden).\u001b[0m\u001b[0;34m\u001b[0m\u001b[0;34m\u001b[0m\u001b[0;34m\u001b[0m\u001b[0m\n\u001b[1;32m    877\u001b[0m           \u001b[0;31m# TODO(kaftan): do we maybe_build here, or have we already done it?\u001b[0m\u001b[0;34m\u001b[0m\u001b[0;34m\u001b[0m\u001b[0;34m\u001b[0m\u001b[0m\n\u001b[0;32m--> 878\u001b[0;31m           \u001b[0mself\u001b[0m\u001b[0;34m.\u001b[0m\u001b[0m_maybe_build\u001b[0m\u001b[0;34m(\u001b[0m\u001b[0minputs\u001b[0m\u001b[0;34m)\u001b[0m\u001b[0;34m\u001b[0m\u001b[0;34m\u001b[0m\u001b[0m\n\u001b[0m\u001b[1;32m    879\u001b[0m           \u001b[0minputs\u001b[0m \u001b[0;34m=\u001b[0m \u001b[0mself\u001b[0m\u001b[0;34m.\u001b[0m\u001b[0m_maybe_cast_inputs\u001b[0m\u001b[0;34m(\u001b[0m\u001b[0minputs\u001b[0m\u001b[0;34m)\u001b[0m\u001b[0;34m\u001b[0m\u001b[0;34m\u001b[0m\u001b[0m\n\u001b[1;32m    880\u001b[0m           \u001b[0moutputs\u001b[0m \u001b[0;34m=\u001b[0m \u001b[0mcall_fn\u001b[0m\u001b[0;34m(\u001b[0m\u001b[0minputs\u001b[0m\u001b[0;34m,\u001b[0m \u001b[0;34m*\u001b[0m\u001b[0margs\u001b[0m\u001b[0;34m,\u001b[0m \u001b[0;34m**\u001b[0m\u001b[0mkwargs\u001b[0m\u001b[0;34m)\u001b[0m\u001b[0;34m\u001b[0m\u001b[0;34m\u001b[0m\u001b[0m\n",
            "\u001b[0;32m/usr/local/lib/python3.7/dist-packages/tensorflow/python/keras/engine/base_layer.py\u001b[0m in \u001b[0;36m_maybe_build\u001b[0;34m(self, inputs)\u001b[0m\n\u001b[1;32m   2623\u001b[0m         \u001b[0;31m# operations.\u001b[0m\u001b[0;34m\u001b[0m\u001b[0;34m\u001b[0m\u001b[0;34m\u001b[0m\u001b[0m\n\u001b[1;32m   2624\u001b[0m         \u001b[0;32mwith\u001b[0m \u001b[0mtf_utils\u001b[0m\u001b[0;34m.\u001b[0m\u001b[0mmaybe_init_scope\u001b[0m\u001b[0;34m(\u001b[0m\u001b[0mself\u001b[0m\u001b[0;34m)\u001b[0m\u001b[0;34m:\u001b[0m\u001b[0;34m\u001b[0m\u001b[0;34m\u001b[0m\u001b[0m\n\u001b[0;32m-> 2625\u001b[0;31m           \u001b[0mself\u001b[0m\u001b[0;34m.\u001b[0m\u001b[0mbuild\u001b[0m\u001b[0;34m(\u001b[0m\u001b[0minput_shapes\u001b[0m\u001b[0;34m)\u001b[0m  \u001b[0;31m# pylint:disable=not-callable\u001b[0m\u001b[0;34m\u001b[0m\u001b[0;34m\u001b[0m\u001b[0m\n\u001b[0m\u001b[1;32m   2626\u001b[0m       \u001b[0;31m# We must set also ensure that the layer is marked as built, and the build\u001b[0m\u001b[0;34m\u001b[0m\u001b[0;34m\u001b[0m\u001b[0;34m\u001b[0m\u001b[0m\n\u001b[1;32m   2627\u001b[0m       \u001b[0;31m# shape is stored since user defined build functions may not be calling\u001b[0m\u001b[0;34m\u001b[0m\u001b[0;34m\u001b[0m\u001b[0;34m\u001b[0m\u001b[0m\n",
            "\u001b[0;32m/usr/local/lib/python3.7/dist-packages/tensorflow/python/keras/utils/tf_utils.py\u001b[0m in \u001b[0;36mwrapper\u001b[0;34m(instance, input_shape)\u001b[0m\n\u001b[1;32m    268\u001b[0m     \u001b[0;32mif\u001b[0m \u001b[0minput_shape\u001b[0m \u001b[0;32mis\u001b[0m \u001b[0;32mnot\u001b[0m \u001b[0;32mNone\u001b[0m\u001b[0;34m:\u001b[0m\u001b[0;34m\u001b[0m\u001b[0;34m\u001b[0m\u001b[0m\n\u001b[1;32m    269\u001b[0m       \u001b[0minput_shape\u001b[0m \u001b[0;34m=\u001b[0m \u001b[0mconvert_shapes\u001b[0m\u001b[0;34m(\u001b[0m\u001b[0minput_shape\u001b[0m\u001b[0;34m,\u001b[0m \u001b[0mto_tuples\u001b[0m\u001b[0;34m=\u001b[0m\u001b[0;32mTrue\u001b[0m\u001b[0;34m)\u001b[0m\u001b[0;34m\u001b[0m\u001b[0;34m\u001b[0m\u001b[0m\n\u001b[0;32m--> 270\u001b[0;31m     \u001b[0moutput_shape\u001b[0m \u001b[0;34m=\u001b[0m \u001b[0mfn\u001b[0m\u001b[0;34m(\u001b[0m\u001b[0minstance\u001b[0m\u001b[0;34m,\u001b[0m \u001b[0minput_shape\u001b[0m\u001b[0;34m)\u001b[0m\u001b[0;34m\u001b[0m\u001b[0;34m\u001b[0m\u001b[0m\n\u001b[0m\u001b[1;32m    271\u001b[0m     \u001b[0;31m# Return shapes from `fn` as TensorShapes.\u001b[0m\u001b[0;34m\u001b[0m\u001b[0;34m\u001b[0m\u001b[0;34m\u001b[0m\u001b[0m\n\u001b[1;32m    272\u001b[0m     \u001b[0;32mif\u001b[0m \u001b[0moutput_shape\u001b[0m \u001b[0;32mis\u001b[0m \u001b[0;32mnot\u001b[0m \u001b[0;32mNone\u001b[0m\u001b[0;34m:\u001b[0m\u001b[0;34m\u001b[0m\u001b[0;34m\u001b[0m\u001b[0m\n",
            "\u001b[0;32m/usr/local/lib/python3.7/dist-packages/tensorflow/python/keras/layers/merge.py\u001b[0m in \u001b[0;36mbuild\u001b[0;34m(self, input_shape)\u001b[0m\n\u001b[1;32m    495\u001b[0m     \u001b[0mshape_set\u001b[0m \u001b[0;34m=\u001b[0m \u001b[0mset\u001b[0m\u001b[0;34m(\u001b[0m\u001b[0;34m)\u001b[0m\u001b[0;34m\u001b[0m\u001b[0;34m\u001b[0m\u001b[0m\n\u001b[1;32m    496\u001b[0m     \u001b[0;32mfor\u001b[0m \u001b[0mi\u001b[0m \u001b[0;32min\u001b[0m \u001b[0mrange\u001b[0m\u001b[0;34m(\u001b[0m\u001b[0mlen\u001b[0m\u001b[0;34m(\u001b[0m\u001b[0mreduced_inputs_shapes\u001b[0m\u001b[0;34m)\u001b[0m\u001b[0;34m)\u001b[0m\u001b[0;34m:\u001b[0m\u001b[0;34m\u001b[0m\u001b[0;34m\u001b[0m\u001b[0m\n\u001b[0;32m--> 497\u001b[0;31m       \u001b[0;32mdel\u001b[0m \u001b[0mreduced_inputs_shapes\u001b[0m\u001b[0;34m[\u001b[0m\u001b[0mi\u001b[0m\u001b[0;34m]\u001b[0m\u001b[0;34m[\u001b[0m\u001b[0mself\u001b[0m\u001b[0;34m.\u001b[0m\u001b[0maxis\u001b[0m\u001b[0;34m]\u001b[0m\u001b[0;34m\u001b[0m\u001b[0;34m\u001b[0m\u001b[0m\n\u001b[0m\u001b[1;32m    498\u001b[0m       \u001b[0mshape_set\u001b[0m\u001b[0;34m.\u001b[0m\u001b[0madd\u001b[0m\u001b[0;34m(\u001b[0m\u001b[0mtuple\u001b[0m\u001b[0;34m(\u001b[0m\u001b[0mreduced_inputs_shapes\u001b[0m\u001b[0;34m[\u001b[0m\u001b[0mi\u001b[0m\u001b[0;34m]\u001b[0m\u001b[0;34m)\u001b[0m\u001b[0;34m)\u001b[0m\u001b[0;34m\u001b[0m\u001b[0;34m\u001b[0m\u001b[0m\n\u001b[1;32m    499\u001b[0m \u001b[0;34m\u001b[0m\u001b[0m\n",
            "\u001b[0;31mIndexError\u001b[0m: list assignment index out of range"
          ]
        }
>>>>>>> cb41ad41e5f6b349a741b68ac3b8319be26461f4
      ]
     },
     "metadata": {
      "needs_background": "light"
     },
     "output_type": "display_data"
    }
   ],
   "source": [
    "train_path = \"data_semantics/training/image_2\"\n",
    "train_mask_path = \"data_semantics/training/semantic\"\n",
    "image = cv2.imread(os.path.join(train_path,\"000000_10.png\"))\n",
    "image_mask = cv2.imread(os.path.join(train_mask_path,\"000000_10.png\"),0)\n",
    "\n",
    "print(image.shape)\n",
    "image_resize = cv2.resize(image,(128,128))\n",
    "print(image_resize.shape)\n",
    "image_mask_resize = cv2.resize(image_mask,(128,128))\n",
    "\n",
    "print(image_mask_resize.shape)\n",
    "pyplt.imshow(image_mask_resize,cmap='gray')\n",
    "\n",
    "# I still don't know what to do :/"
   ]
  },
  {
   "cell_type": "markdown",
   "metadata": {
    "id": "j1Izzt3WnLFP"
   },
   "source": [
    "## UNet Model"
   ]
  },
  {
   "cell_type": "code",
   "execution_count": 8,
   "metadata": {
    "colab": {
     "base_uri": "https://localhost:8080/",
     "height": 1000
    },
    "id": "nduySIT9nO8s",
    "outputId": "67b38a1d-e239-4ee4-80a5-85a46046ae60"
   },
   "outputs": [
    {
     "name": "stdout",
     "output_type": "stream",
     "text": [
      "(128, 128, 3)\n",
      "(128, 128, 1)\n",
      "(None, 128, 128, 3)\n",
      "(None, 64, 64, 16)\n",
      "(None, 32, 32, 32)\n",
      "(None, 16, 16, 64)\n",
      "(None, 8, 8, 128)\n",
      "(None, 16, 16, 128)\n",
      "(None, 32, 32, 64)\n",
      "(None, 64, 64, 32)\n",
      "(None, 128, 128, 16)\n",
      "(None, 128, 128, 1)\n"
     ]
    }
<<<<<<< HEAD
   ],
   "source": [
    "# start with a 128x128, then halve till you get an 8x8, then go back up again\n",
    "# I made the architecture, but without the data its not gonna go anywhere :(\n",
    "\n",
    "\n",
    "def down_block(x,filters,filter_size = (3,3),stride = 1,padding = 'same'):\n",
    "\n",
    "  c = keras.layers.Conv2D(filters,filter_size,strides=stride,padding=padding,activation='relu')(x)\n",
    "  c = keras.layers.Conv2D(filters,filter_size,strides=stride,padding=padding,activation='relu')(c)\n",
    "  p = keras.layers.MaxPool2D((2,2),(2,2))(c)\n",
    "  return c,p\n",
    "\n",
    "def up_block(x,skip_layer,filters,filter_size = (3,3),stride = 1,padding = 'same'):\n",
    "\n",
    "  up_sample = keras.layers.UpSampling2D((2,2))(x)\n",
    "  concatnt = keras.layers.Concatenate()([up_sample,skip_layer])\n",
    "  c = keras.layers.Conv2D(filters,filter_size,strides=stride,padding=padding,activation='relu')(concatnt)\n",
    "  c = keras.layers.Conv2D(filters,filter_size,strides=stride,padding=padding,activation='relu')(c)\n",
    "  return c\n",
    "\n",
    "\n",
    "def bottleneck(x,filters,filter_size = (3,3),stride = 1,padding = 'same'):\n",
    "  c = keras.layers.Conv2D(filters,filter_size,strides=stride,padding=padding,activation='relu')(x)\n",
    "  c = keras.layers.Conv2D(filters,filter_size,strides=stride,padding=padding,activation='relu')(c)\n",
    "  return c\n",
    "\n",
    "def UNet():\n",
    "  inputs = keras.layers.Input((128,128,3))\n",
    "\n",
    "  p0 = inputs \n",
    "  print(p0.shape)  \n",
    "  c1,p1 = down_block(p0,16)\n",
    "  print(p1.shape)\n",
    "  c2,p2 = down_block(p1,32)\n",
    "  print(p2.shape)\n",
    "  c3,p3 = down_block(p2,64)#16\n",
    "  print(p3.shape)\n",
    "  c4,p4 = down_block(p3,128)#8\n",
    "  print(p4.shape)\n",
    "\n",
    "  c6 = bottleneck(p4,256)\n",
    "\n",
    "  c7 = up_block(c6,c4,128)\n",
    "  print(c7.shape)\n",
    "  c8 = up_block(c7,c3,64)\n",
    "  print(c8.shape)\n",
    "  c9 = up_block(c8,c2,32)\n",
    "  print(c9.shape)\n",
    "  c10 = up_block(c9,c1,16)\n",
    "  print(c10.shape)\n",
    "\n",
    "  outputs = keras.layers.Conv2D(1,(1,1),(1,1),padding='same',activation = 'sigmoid')(c10)\n",
    "  print(outputs.shape)\n",
    "\n",
    "  model = keras.models.Model(inputs,outputs)\n",
    "  return model\n",
    "\n",
    "\n",
    "inputz = np.random.randn(128,128,3)\n",
    "inputz = tf.convert_to_tensor(inputz,np.float32)\n",
    "outputz = np.random.randn(128,128,1)\n",
    "outputz = tf.convert_to_tensor(outputz,np.float32)\n",
    "tf.reshape(inputz,(128,128,3))\n",
    "print(inputz.shape)\n",
    "print(outputz.shape)\n",
    "model = UNet()\n",
    "model.compile(optimizer = 'adam',loss = 'binary-crossentropy',metrics = ['accuracy'])\n",
    "model.fit(inputz,outputz,epochs = 5)\n",
    "\n",
    "\n",
    "\n",
    "\n",
    "\n",
    "\n"
   ]
  },
  {
   "cell_type": "code",
   "execution_count": null,
   "metadata": {
    "id": "72K7l4vfKcR5"
   },
   "outputs": [],
   "source": []
  },
  {
   "cell_type": "code",
   "execution_count": null,
   "metadata": {},
   "outputs": [],
   "source": []
  },
  {
   "cell_type": "code",
   "execution_count": null,
   "metadata": {},
   "outputs": [],
   "source": []
  }
 ],
 "metadata": {
  "colab": {
   "collapsed_sections": [],
   "name": "TheNetofU.ipynb",
   "provenance": []
  },
  "kernelspec": {
   "display_name": "Python 3",
   "language": "python",
   "name": "python3"
  },
  "language_info": {
   "codemirror_mode": {
    "name": "ipython",
    "version": 3
   },
   "file_extension": ".py",
   "mimetype": "text/x-python",
   "name": "python",
   "nbconvert_exporter": "python",
   "pygments_lexer": "ipython3",
   "version": "3.8.5"
  }
 },
 "nbformat": 4,
 "nbformat_minor": 4
=======
  ]
>>>>>>> cb41ad41e5f6b349a741b68ac3b8319be26461f4
}
